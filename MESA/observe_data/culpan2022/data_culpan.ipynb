{
 "cells": [
  {
   "cell_type": "code",
   "execution_count": 3,
   "metadata": {},
   "outputs": [],
   "source": [
    "import matplotlib.pyplot as plt\n",
    "import numpy as np\n",
    "import pandas as pd\n",
    "from astropy.io import fits\n",
    "\n",
    "data_culpan = pd.read_csv('/home/fmq/MESA/work/my/observe_data/culpan2022/knownhsd.dat', header=None, sep='\\t')\n",
    "\n",
    "    # 将字符串转换为浮点数的辅助函数\n",
    "def convert_to_float(x):\n",
    "    try:\n",
    "        return float(x)\n",
    "    except ValueError:\n",
    "        return -10**3\n",
    "\n",
    "# 处理每一行的辅助函数\n",
    "def process_row(row):\n",
    "    star_name = row[0][0:27].replace(\" \", \"\").replace('[?/]', '')\n",
    "    Teff = convert_to_float(row[0][305:311])\n",
    "    Teff_err = convert_to_float(row[0][312:317])\n",
    "    logg = convert_to_float(row[0][318:322])\n",
    "    logg_err = convert_to_float(row[0][323:327])\n",
    "    loghe = convert_to_float(row[0][328:333])\n",
    "    loghe_err = convert_to_float(row[0][334:339])\n",
    "\n",
    "    # 如果有无效数据，则返回 None\n",
    "    if Teff == -10**3 or logg == -10**3 or loghe == -10**3:\n",
    "        return None\n",
    "\n",
    "    # 处理缺失的错误值\n",
    "    if Teff_err == -10**3:\n",
    "        Teff_err = 0.02\n",
    "    if logg_err == -10**3:\n",
    "        logg_err = 0.1\n",
    "    if loghe_err == -10**3:\n",
    "        loghe_err = 0.1\n",
    "    return {\n",
    "            'star_name': star_name,\n",
    "            'log_Teff': np.log10(Teff),\n",
    "            'log_Teff_err': np.log10(1 + Teff_err / Teff),\n",
    "            'log_g': logg,\n",
    "            'log_g_err': logg_err,\n",
    "            'log_he': loghe,\n",
    "            'log_he_err': loghe_err\n",
    "        }\n",
    "\n",
    "    # 使用 apply 函数处理每一行，并丢弃包含无效数据的行，最后转换为列表\n",
    "data_culpan_list = data_culpan.apply(process_row, axis=1).dropna().tolist()"
   ]
  },
  {
   "cell_type": "code",
   "execution_count": 1,
   "metadata": {},
   "outputs": [],
   "source": [
    "import pandas as pd\n",
    "method_data = pd.read_csv('/home/fmq/MESA/work/my/MCMC/code/lei/iso_grid.csv')\n"
   ]
  },
  {
   "cell_type": "code",
   "execution_count": 5,
   "metadata": {},
   "outputs": [
    {
     "name": "stderr",
     "output_type": "stream",
     "text": [
      "No artists with labels found to put in legend.  Note that artists whose label start with an underscore are ignored when legend() is called with no argument.\n"
     ]
    },
    {
     "data": {
      "image/png": "[encoded data removed]",
      "text/plain": [
       "<Figure size 400x300 with 1 Axes>"
      ]
     },
     "metadata": {},
     "output_type": "display_data"
    }
   ],
   "source": [
    "import matplotlib.pyplot as plt\n",
    "import numpy as np\n",
    "plt.figure(dpi=100, figsize=(4, 3))\n",
    "ax = plt.gca()\n",
    "\n",
    "change_indices_all = np.where((method_data[\"mass\"].iloc[:-1].values != method_data[\"mass\"].iloc[1:].values) | (method_data[\"he\"].iloc[:-1].values != method_data[\"he\"].iloc[1:].values))[0]\n",
    "method_data_siginl = np.split(method_data, change_indices_all + 1)\n",
    "\n",
    "for data in method_data_siginl:\n",
    "    if not data.empty:\n",
    "        ax.plot(data['log_Teff'], data['log_g'], color='gray')\n",
    "\n",
    "\n",
    "ax.set(xlabel=r'$\\log T_{\\rm eff}/K$', ylabel=r'$\\log g$')\n",
    "for star_index, observed_data_star in enumerate(data_culpan_list):\n",
    "    ax.scatter(observed_data_star['log_Teff'],observed_data_star['log_g'],marker='x',color='r')\n",
    "\n",
    "# data_lei = fits.open('/home/fmq/MESA/work/my/observe_data/lei2023/sd_mass_0p20.fits')\n",
    "# num_rows = data_lei[1].data.shape[0]\n",
    "# print(f\"The number of rows is {num_rows}\")\n",
    "# Teff=data_lei[1].data['teff']\n",
    "# logg=data_lei[1].data['logg']\n",
    "# loghe=data_lei[1].data['loghe']\n",
    "# he_class = data_lei[1].data['sp_class']\n",
    "# mass = data_lei[1].data['mass_median']\n",
    "# L=data_lei[1].data['l_div_lsun_median']\n",
    "\n",
    "# log_Teff = np.log10(Teff)\n",
    "# log_L = np.log10(L)\n",
    "# ax = plt.gca()\n",
    "# # 创建一个字典来映射 he_class 的值到颜色和标记\n",
    "# class_to_marker = {\n",
    "#     'sdB': ('k', 'o'),  # 黑色圆圈\n",
    "#     'sdO': ('g', 's'),  # 绿色正方形\n",
    "#     'sdOB': ('m', '^'),  # 紫色正三角形\n",
    "#     'He-sdB': ('pink', '*'),  # 粉红色五角星\n",
    "#     'He-sdO': ('b', '<'),  # 蓝色左三角\n",
    "#     'He-sdOB': ('r', 'D')  # 红色菱形\n",
    "# }\n",
    "\n",
    "# # 绘制散点图\n",
    "# for cls, (color, marker) in class_to_marker.items():\n",
    "#     mask = he_class == cls\n",
    "#     ax.scatter(log_Teff[mask], logg[mask], color=color, marker=marker, facecolors='none', label=cls)\n",
    "\n",
    "# 添加图例\n",
    "ax.legend()\n",
    "ax.invert_xaxis()\n",
    "ax.invert_yaxis()\n",
    "ax.set(xlabel=r'$\\log T_{\\rm eff}/K$', ylabel=r'$\\log g$ /cm s$^{-2}$')\n",
    "plt.savefig('culpan&lei.png', dpi=200)\n",
    "plt.show()"
   ]
  }
 ],
 "metadata": {
  "kernelspec": {
   "display_name": "Python 3",
   "language": "python",
   "name": "python3"
  },
  "language_info": {
   "codemirror_mode": {
    "name": "ipython",
    "version": 3
   },
   "file_extension": ".py",
   "mimetype": "text/x-python",
   "name": "python",
   "nbconvert_exporter": "python",
   "pygments_lexer": "ipython3",
   "version": "3.11.5"
  }
 },
 "nbformat": 4,
 "nbformat_minor": 2
}
